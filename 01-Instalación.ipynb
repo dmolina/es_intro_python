{
 "cells": [
  {
   "cell_type": "markdown",
   "metadata": {
    "slideshow": {
     "slide_type": "slide"
    }
   },
   "source": [
    "# Instalación\n",
    "\n",
    "Lo primero es instalar Python. Para ello, la mejor forma es bajarse [Anaconda](https://www.anaconda.com/download/),  está disponible en Windows, Linux y MacOS. <img src=\"http://www.gurobi.com/images/logo-anaconda.png\" alt=\"Anaconda\" style=\"width: 200px;\"/>"
   ]
  },
  {
   "cell_type": "markdown",
   "metadata": {},
   "source": [
    "# [Descargar Anaconda](https://www.anaconda.com/download/) \n",
    "\n",
    "Recordar coger la versión de 64 bits y accesible directamente en los botones que aparecen. Las versiones de abajo son  para otro tipo de arquitectura o para 32 bits, lo cual puede dar problemas si el SO es de 64 bits."
   ]
  },
  {
   "cell_type": "markdown",
   "metadata": {},
   "source": [
    "# Verificar que está instalado \n",
    "\n",
    "> conda --version"
   ]
  },
  {
   "cell_type": "code",
   "execution_count": 1,
   "metadata": {
    "collapsed": true
   },
   "outputs": [],
   "source": [
    "#from IPython.display import HTML\n",
    "#HTML('''<script>\n",
    "#code_show=true; \n",
    "#function code_toggle() {\n",
    "# if (code_show){\n",
    "# $('div.input').hide();\n",
    "# } else {\n",
    "# $('div.input').show();\n",
    "# }#\n",
    "# code_show = !code_show\n",
    "#} \n",
    "#$( ocument ).ready(code_toggle);\n",
    "#</script>\n",
    "#The raw code for this IPython notebook is by default hidden for easier reading.\n",
    "#To toggle on/off the raw code, click <a href=\"javascript:code_toggle()\">here</a>.''')"
   ]
  },
  {
   "cell_type": "markdown",
   "metadata": {},
   "source": [
    "# Crear un entorno\n",
    "\n",
    "Anaconda nos permite tener distintos entornos, cada uno con distintas librerías (y versiones de librerías). \n",
    "De esa manera evitamos conflictos si queremos tener aplicaciones que requieran librerías incompatibles entre sí."
   ]
  },
  {
   "cell_type": "markdown",
   "metadata": {},
   "source": [
    "Vamos a crear el entorno para Inteligencia de Negocio con la versión 3 de Python, y la librería scikit-learn se crea de la siguiente forma:\n",
    "\n",
    "> conda create -n IN\n",
    "\n",
    "Y para activarlo se ejecuta\n",
    "\n",
    "> source activate IN\n",
    "\n",
    "Si todo va bien,  en Linux, deberá de de verse \"(IN)\" en la línea de comandos. \n",
    "\n",
    "Para desactivar se puede hacer:\n",
    "\n",
    "> source deactivate "
   ]
  },
  {
   "cell_type": "markdown",
   "metadata": {},
   "source": [
    "# Por qué Python\n",
    "\n",
    "Python es un lenguaje muy usado en Machine-Learning y Ciencias de Datos en General. Tiene muchas ventajas:\n",
    "\n",
    "-  Es Software Libre, así que no hay problemas de licencias.\n",
    "-  Es un lenguaje muy fácil de aprender. \n",
    "-  Librerías científicas muy buenas. \n",
    "-  Fácil de integrar con otras librerías."
   ]
  },
  {
   "cell_type": "markdown",
   "metadata": {},
   "source": [
    "![Stack](stack.jpg)"
   ]
  },
  {
   "cell_type": "markdown",
   "metadata": {},
   "source": [
    "# Librerías que usaremos\n",
    "\n",
    "Las librerías que vamos a usar ya vienen instaladas por defecto. Son:\n",
    "\n",
    "- numpy, librería matemática, muy potente, y consigue la eficiencia de trabajar en C.\n",
    "- pandas, librería que permite trabajar con tablas de datos (como Excel) y leerlos y escribirlos de ficheros .csv y Excel.\n",
    "- scikit-learn, librería de 'Marchine Learning'.  \n",
    "\n",
    "![numpy](numpy.jpg)\n",
    "![pandas](pandas.png)\n",
    "![scikit-learn](scikit-learn.png)"
   ]
  },
  {
   "cell_type": "markdown",
   "metadata": {},
   "source": [
    "# Entorno de Desarrollo\n",
    "\n",
    "Existen muchos entornos de desarrollo, como [PyCharm](https://www.jetbrains.com/pycharm/), [Spyder](https://github.com/spyder-ide/spyder) o [PyDev (entorno Eclipse)](http://www.pydev.org/). \n",
    "\n",
    "Nosotros vamos a usar [Jupyter](http://jupyter.org/), que nos ofrece un entorno web para escribir código Python y ver el resultado de forma bastante interactiva.\n",
    "\n",
    "Con conda se instala sólo. Para ejecutarlo primer vamos al directorio que queremos ejecutar y hacemos:\n",
    "\n",
    "> jupyter notebook\n",
    "\n",
    "y luego desde el navegador abrimos la dirección, y podemos empezar a trabajar."
   ]
  },
  {
   "cell_type": "code",
   "execution_count": 8,
   "metadata": {},
   "outputs": [
    {
     "data": {
      "image/jpeg": "[encoded data removed]",
      "text/html": [
       "\n",
       "        <iframe\n",
       "            width=\"400\"\n",
       "            height=\"300\"\n",
       "            src=\"https://www.youtube.com/embed/qb7FT68tcA8\"\n",
       "            frameborder=\"0\"\n",
       "            allowfullscreen\n",
       "        ></iframe>\n",
       "        "
      ],
      "text/plain": [
       "<IPython.lib.display.YouTubeVideo at 0x7f4650356da0>"
      ]
     },
     "execution_count": 8,
     "metadata": {},
     "output_type": "execute_result"
    }
   ],
   "source": [
    "from IPython.display import YouTubeVideo\n",
    "YouTubeVideo(\"qb7FT68tcA8\")"
   ]
  },
  {
   "cell_type": "markdown",
   "metadata": {},
   "source": [
    "# Notebooks\n",
    "\n",
    "Los notebooks de Python son fichero terminados en \".pynb\", que pueden ser abiertos desde el navegador usando jupyter. Estos notebooks se dividen en celdas que pueden contener texto y código Python que se puede ejecutar, mostrando la salida de su ejecución. \n",
    "\n",
    "Github entiende el formato, y permite visualizar un notebook, pero no se puede ejecutar el código, para eso es necesario descargar el fichero y editarlo localmente.\n",
    "\n",
    "# Recursos\n",
    "\n",
    "Existe una gran cantidad de Notebooks muy útiles, en la propia wiki de Jupyter se encuentra una [extensa galería de interesantes notebooks](https://github.com/jupyter/jupyter/wiki/A-gallery-of-interesting-Jupyter-Notebooks) "
   ]
  },
  {
   "cell_type": "markdown",
   "metadata": {},
   "source": [
    "# Ejemplo del lenguaje Python\n",
    "\n",
    "Vamos a empezar con el Hello, World. Mientras que en C sería\n",
    "\n",
    "> #include<stdio.h>\n",
    ">\n",
    "> int main(void) {\n",
    ">    printf(\"Hello World\\n\");\n",
    ">    return 0;\n",
    "> }\n",
    "\n",
    "El código en Python es mucho más sencillo."
   ]
  },
  {
   "cell_type": "code",
   "execution_count": 5,
   "metadata": {},
   "outputs": [
    {
     "name": "stdout",
     "output_type": "stream",
     "text": [
      "Hola a todos\n"
     ]
    }
   ],
   "source": [
    "print(\"Hola a todos\")"
   ]
  },
  {
   "cell_type": "markdown",
   "metadata": {},
   "source": [
    "Como véis, no hay puntos y coma al  final de cada sentencia, le basta con fin de línea. Y en vez de printf usa print, que es mucho más sencillo."
   ]
  },
  {
   "cell_type": "markdown",
   "metadata": {},
   "source": [
    "## Un ejemplo un poco más completo"
   ]
  },
  {
   "cell_type": "code",
   "execution_count": 4,
   "metadata": {},
   "outputs": [
    {
     "name": "stdout",
     "output_type": "stream",
     "text": [
      "Frase:  hola\n",
      "Frase:  a\n",
      "Frase:  todos\n",
      "Se han mostrado  3  palabras y  3  caracteres\n"
     ]
    }
   ],
   "source": [
    "sumcars = 0\n",
    "sumwords = 0\n",
    "\n",
    "for word in ['hola', 'a', 'todos']:\n",
    "    print(\"Frase: \", word)\n",
    "    sumcars += len(word)\n",
    "    sumwords += 1\n",
    "    \n",
    "print(\"Se han mostrado \", sumwords, \" palabras y \", sumwords, \" caracteres\")"
   ]
  },
  {
   "cell_type": "markdown",
   "metadata": {},
   "source": [
    "# Mostrando datos\n",
    "\n",
    "Vamos a visualizar unos pocos datos"
   ]
  },
  {
   "cell_type": "code",
   "execution_count": 5,
   "metadata": {},
   "outputs": [
    {
     "name": "stdout",
     "output_type": "stream",
     "text": [
      "Populating the interactive namespace from numpy and matplotlib\n"
     ]
    }
   ],
   "source": [
    "%pylab inline"
   ]
  },
  {
   "cell_type": "code",
   "execution_count": 9,
   "metadata": {},
   "outputs": [],
   "source": [
    "import matplotlib\n",
    "import matplotlib.pyplot as plt"
   ]
  },
  {
   "cell_type": "code",
   "execution_count": null,
   "metadata": {
    "collapsed": true
   },
   "outputs": [],
   "source": []
  },
  {
   "cell_type": "code",
   "execution_count": null,
   "metadata": {
    "collapsed": true
   },
   "outputs": [],
   "source": []
  }
 ],
 "metadata": {
  "kernelspec": {
   "display_name": "Python 3",
   "language": "python",
   "name": "python3"
  },
  "language_info": {
   "codemirror_mode": {
    "name": "ipython",
    "version": 3
   },
   "file_extension": ".py",
   "mimetype": "text/x-python",
   "name": "python",
   "nbconvert_exporter": "python",
   "pygments_lexer": "ipython3",
   "version": "3.6.1"
  }
 },
 "nbformat": 4,
 "nbformat_minor": 2
}
